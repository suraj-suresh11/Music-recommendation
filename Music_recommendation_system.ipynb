{
  "nbformat": 4,
  "nbformat_minor": 0,
  "metadata": {
    "colab": {
      "provenance": [],
      "authorship_tag": "ABX9TyN/V61iwMbT2Zv/rkhnPKXP",
      "include_colab_link": true
    },
    "kernelspec": {
      "name": "python3",
      "display_name": "Python 3"
    },
    "language_info": {
      "name": "python"
    }
  },
  "cells": [
    {
      "cell_type": "markdown",
      "metadata": {
        "id": "view-in-github",
        "colab_type": "text"
      },
      "source": [
        "<a href=\"https://colab.research.google.com/github/suraj-suresh11/Music-recommendation/blob/main/Music_recommendation_system.ipynb\" target=\"_parent\"><img src=\"https://colab.research.google.com/assets/colab-badge.svg\" alt=\"Open In Colab\"/></a>"
      ]
    },
    {
      "cell_type": "code",
      "execution_count": 4,
      "metadata": {
        "colab": {
          "base_uri": "https://localhost:8080/"
        },
        "id": "63lntlIhWi5l",
        "outputId": "1cf10637-6d91-4009-8704-76298736eae8"
      },
      "outputs": [
        {
          "output_type": "stream",
          "name": "stdout",
          "text": [
            "Access token obtained successfully.\n"
          ]
        }
      ],
      "source": [
        "import requests\n",
        "import base64\n",
        "\n",
        "# Replace with your own Client ID and Client Secret\n",
        "CLIENT_ID = 'ac42be3f589d4e79922094fc558c1ebb'\n",
        "CLIENT_SECRET = '6f06d01d2f2741538bded5e78ee1dd32'\n",
        "\n",
        "# Base64 encode the client ID and client secret\n",
        "client_credentials = f\"{CLIENT_ID}:{CLIENT_SECRET}\"\n",
        "client_credentials_base64 = base64.b64encode(client_credentials.encode())\n",
        "\n",
        "# Request the access token\n",
        "token_url = 'https://accounts.spotify.com/api/token'\n",
        "headers = {\n",
        "    'Authorization': f'Basic {client_credentials_base64.decode()}'\n",
        "}\n",
        "data = {\n",
        "    'grant_type': 'client_credentials'\n",
        "}\n",
        "response = requests.post(token_url, data=data, headers=headers)\n",
        "\n",
        "if response.status_code == 200:\n",
        "    access_token = response.json()['access_token']\n",
        "    print(\"Access token obtained successfully.\")\n",
        "else:\n",
        "    print(\"Error obtaining access token.\")\n",
        "    exit()"
      ]
    },
    {
      "cell_type": "code",
      "source": [
        "!pip install spotipy"
      ],
      "metadata": {
        "colab": {
          "base_uri": "https://localhost:8080/"
        },
        "id": "mbx1KDmnXcr_",
        "outputId": "40837fa7-db0c-4bc3-c5b0-17546445032d"
      },
      "execution_count": 1,
      "outputs": [
        {
          "output_type": "stream",
          "name": "stdout",
          "text": [
            "Collecting spotipy\n",
            "  Downloading spotipy-2.23.0-py3-none-any.whl (29 kB)\n",
            "Collecting redis>=3.5.3 (from spotipy)\n",
            "  Downloading redis-5.0.2-py3-none-any.whl (251 kB)\n",
            "\u001b[2K     \u001b[90m━━━━━━━━━━━━━━━━━━━━━━━━━━━━━━━━━━━━━━━━\u001b[0m \u001b[32m251.7/251.7 kB\u001b[0m \u001b[31m6.4 MB/s\u001b[0m eta \u001b[36m0:00:00\u001b[0m\n",
            "\u001b[?25hRequirement already satisfied: requests>=2.25.0 in /usr/local/lib/python3.10/dist-packages (from spotipy) (2.31.0)\n",
            "Requirement already satisfied: six>=1.15.0 in /usr/local/lib/python3.10/dist-packages (from spotipy) (1.16.0)\n",
            "Requirement already satisfied: urllib3>=1.26.0 in /usr/local/lib/python3.10/dist-packages (from spotipy) (2.0.7)\n",
            "Requirement already satisfied: async-timeout>=4.0.3 in /usr/local/lib/python3.10/dist-packages (from redis>=3.5.3->spotipy) (4.0.3)\n",
            "Requirement already satisfied: charset-normalizer<4,>=2 in /usr/local/lib/python3.10/dist-packages (from requests>=2.25.0->spotipy) (3.3.2)\n",
            "Requirement already satisfied: idna<4,>=2.5 in /usr/local/lib/python3.10/dist-packages (from requests>=2.25.0->spotipy) (3.6)\n",
            "Requirement already satisfied: certifi>=2017.4.17 in /usr/local/lib/python3.10/dist-packages (from requests>=2.25.0->spotipy) (2024.2.2)\n",
            "Installing collected packages: redis, spotipy\n",
            "Successfully installed redis-5.0.2 spotipy-2.23.0\n"
          ]
        }
      ]
    },
    {
      "cell_type": "code",
      "source": [
        "import pandas as pd\n",
        "import spotipy\n",
        "from spotipy.oauth2 import SpotifyOAuth\n",
        "\n",
        "def get_trending_playlist_data(playlist_id, access_token):\n",
        "    # Set up Spotipy with the access token\n",
        "    sp = spotipy.Spotify(auth=access_token)\n",
        "\n",
        "    # Get the tracks from the playlist\n",
        "    playlist_tracks = sp.playlist_tracks(playlist_id, fields='items(track(id, name, artists, album(id, name)))')\n",
        "\n",
        "    # Extract relevant information and store in a list of dictionaries\n",
        "    music_data = []\n",
        "    for track_info in playlist_tracks['items']:\n",
        "        track = track_info['track']\n",
        "        track_name = track['name']\n",
        "        artists = ', '.join([artist['name'] for artist in track['artists']])\n",
        "        album_name = track['album']['name']\n",
        "        album_id = track['album']['id']\n",
        "        track_id = track['id']\n",
        "\n",
        "        # Get audio features for the track\n",
        "        audio_features = sp.audio_features(track_id)[0] if track_id != 'Not available' else None\n",
        "\n",
        "        # Get release date of the album\n",
        "        try:\n",
        "            album_info = sp.album(album_id) if album_id != 'Not available' else None\n",
        "            release_date = album_info['release_date'] if album_info else None\n",
        "        except:\n",
        "            release_date = None\n",
        "\n",
        "        # Get popularity of the track\n",
        "        try:\n",
        "            track_info = sp.track(track_id) if track_id != 'Not available' else None\n",
        "            popularity = track_info['popularity'] if track_info else None\n",
        "        except:\n",
        "            popularity = None\n",
        "\n",
        "        # Add additional track information to the track data\n",
        "        track_data = {\n",
        "            'Track Name': track_name,\n",
        "            'Artists': artists,\n",
        "            'Album Name': album_name,\n",
        "            'Album ID': album_id,\n",
        "            'Track ID': track_id,\n",
        "            'Popularity': popularity,\n",
        "            'Release Date': release_date,\n",
        "            'Duration (ms)': audio_features['duration_ms'] if audio_features else None,\n",
        "            'Explicit': track_info.get('explicit', None),\n",
        "            'External URLs': track_info.get('external_urls', {}).get('spotify', None),\n",
        "            'Danceability': audio_features['danceability'] if audio_features else None,\n",
        "            'Energy': audio_features['energy'] if audio_features else None,\n",
        "            'Key': audio_features['key'] if audio_features else None,\n",
        "            'Loudness': audio_features['loudness'] if audio_features else None,\n",
        "            'Mode': audio_features['mode'] if audio_features else None,\n",
        "            'Speechiness': audio_features['speechiness'] if audio_features else None,\n",
        "            'Acousticness': audio_features['acousticness'] if audio_features else None,\n",
        "            'Instrumentalness': audio_features['instrumentalness'] if audio_features else None,\n",
        "            'Liveness': audio_features['liveness'] if audio_features else None,\n",
        "            'Valence': audio_features['valence'] if audio_features else None,\n",
        "            'Tempo': audio_features['tempo'] if audio_features else None,\n",
        "            # Add more attributes as needed\n",
        "        }\n",
        "\n",
        "        music_data.append(track_data)\n",
        "\n",
        "    # Create a pandas DataFrame from the list of dictionaries\n",
        "    df = pd.DataFrame(music_data)\n",
        "\n",
        "    return df"
      ],
      "metadata": {
        "id": "qwa_u_xUXYzh"
      },
      "execution_count": 2,
      "outputs": []
    },
    {
      "cell_type": "code",
      "source": [
        "playlist_id = '37i9dQZF1DX76Wlfdnj7AP'\n",
        "\n",
        "# Call the function to get the music data from the playlist and store it in a DataFrame\n",
        "music_df = get_trending_playlist_data(playlist_id, access_token)\n",
        "\n",
        "# Display the DataFrame\n",
        "print(music_df)"
      ],
      "metadata": {
        "colab": {
          "base_uri": "https://localhost:8080/"
        },
        "id": "XmpqNq0IAZ3H",
        "outputId": "bec834d2-24a4-47ed-d4a0-ed72a0884fd1"
      },
      "execution_count": 5,
      "outputs": [
        {
          "output_type": "stream",
          "name": "stdout",
          "text": [
            "                                           Track Name  \\\n",
            "0                                         Lovin On Me   \n",
            "1                                              redrum   \n",
            "2                                            BELLAKEO   \n",
            "3                          FE!N (feat. Playboi Carti)   \n",
            "4                                               Prada   \n",
            "..                                                ...   \n",
            "95  WORTH NOTHING (feat. Oliver Tree) - Fast & Fur...   \n",
            "96                                               BOTH   \n",
            "97                                  MONEY ON THE DASH   \n",
            "98                        Another Love - Tiësto Remix   \n",
            "99                                           Remember   \n",
            "\n",
            "                                              Artists  \\\n",
            "0                                         Jack Harlow   \n",
            "1                                           21 Savage   \n",
            "2                                  Peso Pluma, Anitta   \n",
            "3                         Travis Scott, Playboi Carti   \n",
            "4                         cassö, RAYE, D-Block Europe   \n",
            "..                                                ...   \n",
            "95  TWISTED, Oliver Tree, Fast & Furious: The Fast...   \n",
            "96                             Tiësto, 21 Savage, BIA   \n",
            "97                                Elley Duhé, Whethan   \n",
            "98                                  Tom Odell, Tiësto   \n",
            "99                           Becky Hill, David Guetta   \n",
            "\n",
            "                                           Album Name                Album ID  \\\n",
            "0                                         Lovin On Me  6VCO0fDBGbRW8mCEvV95af   \n",
            "1                                      american dream  2RRYaYHY7fIIdvFlvgb5vq   \n",
            "2                                            BELLAKEO  3VLY9g3CAG1Y5r2eGVEaZ0   \n",
            "3                                              UTOPIA  18NOKLkZETa4sWwLMIm0UZ   \n",
            "4                                               Prada  5MU0RmBSpoSxOPYBfcobDc   \n",
            "..                                                ...                     ...   \n",
            "95  WORTH NOTHING (feat. Oliver Tree) [Fast & Furi...  1nyfZlIOe109tZTrpR3z8h   \n",
            "96                                               BOTH  4WithBxkUVDf6Xe0KbTOkL   \n",
            "97                                  MONEY ON THE DASH  1nlaLDMPSzXL8G5LPBDhwd   \n",
            "98                        Another Love (Tiësto Remix)  1QltVGlNGbK94CKgUsYZGa   \n",
            "99                                           Remember  6DHfD3rZapWFmEKX1FNNZF   \n",
            "\n",
            "                  Track ID  Popularity Release Date  Duration (ms)  Explicit  \\\n",
            "0   4xhsWYTOGcal8zt0J161CU          97   2023-11-10         138411      True   \n",
            "1   52eIcoLUM25zbQupAZYoFh          96   2024-01-12         270698      True   \n",
            "2   05WVKTdZhlIMX4qqMLuo0f          94   2023-12-07         197333      True   \n",
            "3   42VsgItocQwOQC3XWZ8JNA          93   2023-07-28         191701      True   \n",
            "4   59NraMJsLaMCVtwXTSia8i          92   2023-08-11         132359      True   \n",
            "..                     ...         ...          ...            ...       ...   \n",
            "95  3PjbA0O5olhampPMdaB0V1          77   2022-09-28         164629      True   \n",
            "96  7mobUfp1aL8A6CdugCMWft          76   2023-08-29         188000     False   \n",
            "97  1p0jBDjxORjYNJyAphBRpE          76   2023-01-20         145667     False   \n",
            "98  4Et6tUEO7biKxZEfJXpNj1          76   2022-05-13         185366     False   \n",
            "99  4laAKIq9ZxBCwf99rauPYb          76   2021-06-18         160766     False   \n",
            "\n",
            "                                        External URLs  ...  Energy  Key  \\\n",
            "0   https://open.spotify.com/track/4xhsWYTOGcal8zt...  ...   0.558    2   \n",
            "1   https://open.spotify.com/track/52eIcoLUM25zbQu...  ...   0.740    2   \n",
            "2   https://open.spotify.com/track/05WVKTdZhlIMX4q...  ...   0.880    9   \n",
            "3   https://open.spotify.com/track/42VsgItocQwOQC3...  ...   0.882    3   \n",
            "4   https://open.spotify.com/track/59NraMJsLaMCVtw...  ...   0.717    8   \n",
            "..                                                ...  ...     ...  ...   \n",
            "95  https://open.spotify.com/track/3PjbA0O5olhampP...  ...   0.601    2   \n",
            "96  https://open.spotify.com/track/7mobUfp1aL8A6Cd...  ...   0.933    5   \n",
            "97  https://open.spotify.com/track/1p0jBDjxORjYNJy...  ...   0.667    8   \n",
            "98  https://open.spotify.com/track/4Et6tUEO7biKxZE...  ...   0.764    4   \n",
            "99  https://open.spotify.com/track/4laAKIq9ZxBCwf9...  ...   0.862    8   \n",
            "\n",
            "    Loudness  Mode  Speechiness  Acousticness  Instrumentalness  Liveness  \\\n",
            "0     -4.911     1       0.0568       0.00260          0.000002    0.0937   \n",
            "1     -8.445     1       0.0481       0.00529          0.000224    0.5000   \n",
            "2     -2.834     1       0.1010       0.05620          0.060000    0.1530   \n",
            "3     -2.777     0       0.0600       0.03160          0.000000    0.1420   \n",
            "4     -5.804     1       0.0375       0.00100          0.000002    0.1130   \n",
            "..       ...   ...          ...           ...               ...       ...   \n",
            "95    -7.887     0       0.0628       0.15000          0.000579    0.1680   \n",
            "96    -3.099     0       0.0832       0.02520          0.000025    0.4930   \n",
            "97    -7.126     1       0.0843       0.04390          0.000013    0.1790   \n",
            "98    -4.685     0       0.0737       0.08360          0.087100    0.1320   \n",
            "99    -2.903     1       0.0370       0.04100          0.000000    0.0907   \n",
            "\n",
            "    Valence    Tempo  \n",
            "0     0.606  104.983  \n",
            "1     0.246  172.089  \n",
            "2     0.463  180.011  \n",
            "3     0.201  148.038  \n",
            "4     0.422  141.904  \n",
            "..      ...      ...  \n",
            "95    0.156  139.880  \n",
            "96    0.523  119.987  \n",
            "97    0.292  120.044  \n",
            "98    0.473  123.046  \n",
            "99    0.354  123.849  \n",
            "\n",
            "[100 rows x 21 columns]\n"
          ]
        }
      ]
    },
    {
      "cell_type": "code",
      "source": [
        "print(music_df.isnull().sum())"
      ],
      "metadata": {
        "colab": {
          "base_uri": "https://localhost:8080/"
        },
        "id": "fzlzyKvgAkSj",
        "outputId": "22888aec-c36c-482c-951f-a1456d061741"
      },
      "execution_count": 6,
      "outputs": [
        {
          "output_type": "stream",
          "name": "stdout",
          "text": [
            "Track Name          0\n",
            "Artists             0\n",
            "Album Name          0\n",
            "Album ID            0\n",
            "Track ID            0\n",
            "Popularity          0\n",
            "Release Date        0\n",
            "Duration (ms)       0\n",
            "Explicit            0\n",
            "External URLs       0\n",
            "Danceability        0\n",
            "Energy              0\n",
            "Key                 0\n",
            "Loudness            0\n",
            "Mode                0\n",
            "Speechiness         0\n",
            "Acousticness        0\n",
            "Instrumentalness    0\n",
            "Liveness            0\n",
            "Valence             0\n",
            "Tempo               0\n",
            "dtype: int64\n"
          ]
        }
      ]
    },
    {
      "cell_type": "markdown",
      "source": [
        "## Recommendation system"
      ],
      "metadata": {
        "id": "pZwJTImMAnpU"
      }
    },
    {
      "cell_type": "code",
      "source": [
        "import pandas as pd\n",
        "import numpy as np\n",
        "from sklearn.model_selection import train_test_split\n",
        "from sklearn.preprocessing import MinMaxScaler\n",
        "from datetime import datetime\n",
        "from sklearn.metrics.pairwise import cosine_similarity\n",
        "\n",
        "data = music_df"
      ],
      "metadata": {
        "id": "tmtyyunCAqfr"
      },
      "execution_count": 7,
      "outputs": []
    },
    {
      "cell_type": "code",
      "source": [
        "# Function to calculate weighted popularity scores based on release date\n",
        "def calculate_weighted_popularity(release_date):\n",
        "    # Convert the release date to datetime object\n",
        "    release_date = datetime.strptime(release_date, '%Y-%m-%d')\n",
        "\n",
        "    # Calculate the time span between release date and today's date\n",
        "    time_span = datetime.now() - release_date\n",
        "\n",
        "    # Calculate the weighted popularity score based on time span (e.g., more recent releases have higher weight)\n",
        "    weight = 1 / (time_span.days + 1)\n",
        "    return weight"
      ],
      "metadata": {
        "id": "NewdrzCgAu-r"
      },
      "execution_count": 8,
      "outputs": []
    },
    {
      "cell_type": "code",
      "source": [
        "# Normalize the music features using Min-Max scaling\n",
        "scaler = MinMaxScaler()\n",
        "music_features = music_df[['Danceability', 'Energy', 'Key',\n",
        "                           'Loudness', 'Mode', 'Speechiness', 'Acousticness',\n",
        "                           'Instrumentalness', 'Liveness', 'Valence', 'Tempo']].values\n",
        "music_features_scaled = scaler.fit_transform(music_features)"
      ],
      "metadata": {
        "id": "qo3Jv1KKAyLH"
      },
      "execution_count": 9,
      "outputs": []
    },
    {
      "cell_type": "code",
      "source": [
        "# a function to get content-based recommendations based on music features\n",
        "def content_based_recommendations(input_song_name, num_recommendations=5):\n",
        "    if input_song_name not in music_df['Track Name'].values:\n",
        "        print(f\"'{input_song_name}' not found in the dataset. Please enter a valid song name.\")\n",
        "        return\n",
        "\n",
        "    # Get the index of the input song in the music DataFrame\n",
        "    input_song_index = music_df[music_df['Track Name'] == input_song_name].index[0]\n",
        "\n",
        "    # Calculate the similarity scores based on music features (cosine similarity)\n",
        "    similarity_scores = cosine_similarity([music_features_scaled[input_song_index]], music_features_scaled)\n",
        "\n",
        "    # Get the indices of the most similar songs\n",
        "    similar_song_indices = similarity_scores.argsort()[0][::-1][1:num_recommendations + 1]\n",
        "\n",
        "    # Get the names of the most similar songs based on content-based filtering\n",
        "    content_based_recommendations = music_df.iloc[similar_song_indices][['Track Name', 'Artists', 'Album Name', 'Release Date', 'Popularity']]\n",
        "\n",
        "    return content_based_recommendations"
      ],
      "metadata": {
        "id": "kOZRf9QJAy6O"
      },
      "execution_count": 10,
      "outputs": []
    },
    {
      "cell_type": "code",
      "source": [
        "# a function to get hybrid recommendations based on weighted popularity\n",
        "def hybrid_recommendations(input_song_name, num_recommendations=5, alpha=0.5):\n",
        "    if input_song_name not in music_df['Track Name'].values:\n",
        "        print(f\"'{input_song_name}' not found in the dataset. Please enter a valid song name.\")\n",
        "        return\n",
        "\n",
        "    # Get content-based recommendations\n",
        "    content_based_rec = content_based_recommendations(input_song_name, num_recommendations)\n",
        "\n",
        "    # Get the popularity score of the input song\n",
        "    popularity_score = music_df.loc[music_df['Track Name'] == input_song_name, 'Popularity'].values[0]\n",
        "\n",
        "    # Calculate the weighted popularity score\n",
        "    weighted_popularity_score = popularity_score * calculate_weighted_popularity(music_df.loc[music_df['Track Name'] == input_song_name, 'Release Date'].values[0])\n",
        "\n",
        "    # Combine content-based and popularity-based recommendations based on weighted popularity\n",
        "    hybrid_recommendations = content_based_rec\n",
        "    hybrid_recommendations = hybrid_recommendations.append({\n",
        "        'Track Name': input_song_name,\n",
        "        'Artists': music_df.loc[music_df['Track Name'] == input_song_name, 'Artists'].values[0],\n",
        "        'Album Name': music_df.loc[music_df['Track Name'] == input_song_name, 'Album Name'].values[0],\n",
        "        'Release Date': music_df.loc[music_df['Track Name'] == input_song_name, 'Release Date'].values[0],\n",
        "        'Popularity': weighted_popularity_score\n",
        "    }, ignore_index=True)\n",
        "\n",
        "    # Sort the hybrid recommendations based on weighted popularity score\n",
        "    hybrid_recommendations = hybrid_recommendations.sort_values(by='Popularity', ascending=False)\n",
        "\n",
        "    # Remove the input song from the recommendations\n",
        "    hybrid_recommendations = hybrid_recommendations[hybrid_recommendations['Track Name'] != input_song_name]\n",
        "\n",
        "\n",
        "    return hybrid_recommendations"
      ],
      "metadata": {
        "id": "s9CIV1KuA7QE"
      },
      "execution_count": 11,
      "outputs": []
    },
    {
      "cell_type": "code",
      "source": [
        "input_song_name = \"I'm Good (Blue)\"\n",
        "recommendations = hybrid_recommendations(input_song_name, num_recommendations=5)\n",
        "print(f\"Hybrid recommended songs for '{input_song_name}':\")\n",
        "print(recommendations)"
      ],
      "metadata": {
        "colab": {
          "base_uri": "https://localhost:8080/"
        },
        "id": "ubnh3_W4A8Wp",
        "outputId": "7f6237c9-10e9-4fe8-b088-aa248d2ea3e7"
      },
      "execution_count": 12,
      "outputs": [
        {
          "output_type": "stream",
          "name": "stdout",
          "text": [
            "Hybrid recommended songs for 'I'm Good (Blue)':\n",
            "                   Track Name                                     Artists  \\\n",
            "3  FE!N (feat. Playboi Carti)                 Travis Scott, Playboi Carti   \n",
            "4                Call It Love                     Felix Jaehn, Ray Dalton   \n",
            "1                       REACT  Switch Disco, Ella Henderson, Robert Miles   \n",
            "2               Where You Are                          John Summit, Hayla   \n",
            "0                        BOTH                      Tiësto, 21 Savage, BIA   \n",
            "\n",
            "      Album Name Release Date  Popularity  \n",
            "3         UTOPIA   2023-07-28        93.0  \n",
            "4   Call It Love   2022-09-16        81.0  \n",
            "1          REACT   2023-01-13        78.0  \n",
            "2  Where You Are   2023-03-03        78.0  \n",
            "0           BOTH   2023-08-29        76.0  \n"
          ]
        },
        {
          "output_type": "stream",
          "name": "stderr",
          "text": [
            "<ipython-input-11-3de633f34e34>:18: FutureWarning: The frame.append method is deprecated and will be removed from pandas in a future version. Use pandas.concat instead.\n",
            "  hybrid_recommendations = hybrid_recommendations.append({\n"
          ]
        }
      ]
    }
  ]
}